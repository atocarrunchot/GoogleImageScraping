{
 "cells": [
  {
   "cell_type": "code",
   "execution_count": 8,
   "metadata": {},
   "outputs": [],
   "source": [
    "from  selenium import webdriver\n",
    "import time\n",
    "\n",
    "\n",
    "\n",
    "def fetch_image_urls(query:str, max_links_to_fetch:int, wd:webdriver, sleep_between_interactions:int=1):\n",
    "    def scroll_to_end(wd):\n",
    "        wd.execute_script(\"window.scrollTo(0, document.body.scrollHeight);\")\n",
    "        time.sleep(sleep_between_interactions)    \n",
    "    \n",
    "    # build the google query\n",
    "    search_url = \"https://www.google.com/search?safe=off&site=&tbm=isch&source=hp&q={q}&oq={q}&gs_l=img\"\n",
    "\n",
    "    # load the page\n",
    "    wd.get(search_url.format(q=query))\n",
    "\n",
    "    image_urls = set()\n",
    "    image_count = 0\n",
    "    results_start = 0\n",
    "    while image_count < max_links_to_fetch:\n",
    "        scroll_to_end(wd)\n",
    "\n",
    "        # get all image thumbnail results\n",
    "        thumbnail_results = wd.find_elements_by_css_selector(\"img.rg_i\")\n",
    "        number_results = len(thumbnail_results)\n",
    "        \n",
    "        print(f\"Found: {number_results} search results. Extracting links from {results_start}:{number_results}\")\n",
    "        \n",
    "        for img in thumbnail_results[results_start:number_results]:\n",
    "            # try to click every thumbnail such that we can get the real image behind it\n",
    "            try:\n",
    "                img.click()\n",
    "                time.sleep(sleep_between_interactions)\n",
    "            except Exception:\n",
    "                continue\n",
    "\n",
    "            # extract image urls    \n",
    "            actual_images = wd.find_elements_by_css_selector('div.isv-id > div:nth-of-type(2) > a > img')\n",
    "            nr= len(actual_images)\n",
    "            \n",
    "            for actual_image in actual_images:\n",
    "                if actual_image.get_attribute('src'):\n",
    "                    if \"https://\" in actual_image.get_attribute('src') or \"http://\" in actual_image.get_attribute('src'):\n",
    "                        image_urls.add(actual_image.get_attribute('src'))\n",
    "\n",
    "            image_count = len(image_urls)\n",
    "\n",
    "            if len(image_urls) >= max_links_to_fetch:\n",
    "                print(f\"Found: {len(image_urls)} image links, done!\")\n",
    "                break\n",
    "        else:\n",
    "            print(\"Found:\", len(image_urls), \"image links, looking for more ...\")\n",
    "            time.sleep(1)\n",
    "            load_more_button = wd.find_element_by_css_selector(\".ksb\")\n",
    "            if load_more_button:\n",
    "                wd.execute_script(\"document.querySelector('.ksb').click();\")\n",
    "\n",
    "        # move the result startpoint further down\n",
    "        results_start = len(thumbnail_results)\n",
    "\n",
    "    return image_urls"
   ]
  },
  {
   "cell_type": "code",
   "execution_count": 16,
   "metadata": {},
   "outputs": [],
   "source": [
    "def persist_image(folder_path:str,url:str):\n",
    "    try:\n",
    "        image_content = requests.get(url).content\n",
    "\n",
    "    except Exception as e:\n",
    "        print(f\"ERROR - Could not download {url} - {e}\")\n",
    "\n",
    "    try:\n",
    "        image_file = io.BytesIO(image_content)\n",
    "        image = Image.open(image_file).convert('RGB')\n",
    "        file_path = os.path.join(folder_path,hashlib.sha1(image_content).hexdigest()[:10] + '.jpg')\n",
    "        with open(file_path, 'wb') as f:\n",
    "            image.save(f, \"JPEG\", quality=85)\n",
    "        print(f\"SUCCESS - saved  - as {file_path}\")\n",
    "    except Exception as e:\n",
    "        print(f\"ERROR - Could not save  - {e}\")"
   ]
  },
  {
   "cell_type": "code",
   "execution_count": 17,
   "metadata": {},
   "outputs": [],
   "source": [
    "def search_and_download(search_term:str,driver_path:str,target_path='c:\\\\filesdir\\\\images',number_images=5):\n",
    "    target_folder = os.path.join(target_path,'_'.join(search_term.lower().split(' ')))\n",
    "    print(target_folder)\n",
    "    if not os.path.exists(target_folder):\n",
    "        os.makedirs(target_folder)\n",
    "\n",
    "    #with webdriver.Chrome(executable_path=driver_path) as wd:\n",
    "    with webdriver.Chrome() as wd:\n",
    "        res = fetch_image_urls(search_term, number_images, wd=wd, sleep_between_interactions=0.5)\n",
    "        \n",
    "    for elem in res:\n",
    "        persist_image(target_folder,elem)"
   ]
  },
  {
   "cell_type": "code",
   "execution_count": 18,
   "metadata": {},
   "outputs": [
    {
     "name": "stdout",
     "output_type": "stream",
     "text": [
      "c:\\filesdir\\images\\shakira\n",
      "Found: 200 search results. Extracting links from 0:200\n",
      "Found: 5 image links, done!\n",
      "SUCCESS - saved  - as c:\\filesdir\\images\\shakira\\0ecee761f5.jpg\n",
      "SUCCESS - saved  - as c:\\filesdir\\images\\shakira\\8aa54fccf2.jpg\n",
      "SUCCESS - saved  - as c:\\filesdir\\images\\shakira\\59cda6ad42.jpg\n",
      "SUCCESS - saved  - as c:\\filesdir\\images\\shakira\\800f86888f.jpg\n",
      "SUCCESS - saved  - as c:\\filesdir\\images\\shakira\\b5deea7940.jpg\n"
     ]
    }
   ],
   "source": [
    "import hashlib\n",
    "from PIL import Image\n",
    "import os\n",
    "import requests\n",
    "import io\n",
    "\n",
    "wd=webdriver.Chrome()\n",
    "\n",
    "llave='Shakira'\n",
    "DRIVER_PATH = 'c:\\\\filesdir'\n",
    "search_and_download(search_term=llave, driver_path=DRIVER_PATH)"
   ]
  },
  {
   "cell_type": "code",
   "execution_count": null,
   "metadata": {},
   "outputs": [],
   "source": []
  }
 ],
 "metadata": {
  "kernelspec": {
   "display_name": "Python 3",
   "language": "python",
   "name": "python3"
  },
  "language_info": {
   "codemirror_mode": {
    "name": "ipython",
    "version": 3
   },
   "file_extension": ".py",
   "mimetype": "text/x-python",
   "name": "python",
   "nbconvert_exporter": "python",
   "pygments_lexer": "ipython3",
   "version": "3.7.1"
  }
 },
 "nbformat": 4,
 "nbformat_minor": 2
}
